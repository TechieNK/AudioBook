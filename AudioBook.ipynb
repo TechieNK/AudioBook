{
  "nbformat": 4,
  "nbformat_minor": 0,
  "metadata": {
    "colab": {
      "name": "AudioBook.ipynb",
      "provenance": [],
      "collapsed_sections": []
    },
    "kernelspec": {
      "name": "python3",
      "display_name": "Python 3"
    },
    "language_info": {
      "name": "python"
    }
  },
  "cells": [
    {
      "cell_type": "code",
      "metadata": {
        "id": "HG2gmf0qe0W2"
      },
      "source": [
        "!pip install PyPDF2"
      ],
      "execution_count": null,
      "outputs": []
    },
    {
      "cell_type": "code",
      "metadata": {
        "id": "ylqrOI_iWNf2"
      },
      "source": [
        "import PyPDF2"
      ],
      "execution_count": null,
      "outputs": []
    },
    {
      "cell_type": "markdown",
      "metadata": {
        "id": "SsoC6cALfaBG"
      },
      "source": [
        "**Reading the pdf**"
      ]
    },
    {
      "cell_type": "code",
      "metadata": {
        "id": "6iHOlY7XfE3v"
      },
      "source": [
        "book = open('Data Structures and Algorithm Analysis.pdf','rb')\n",
        "pdfReader = PyPDF2.PdfFileReader(book)\n",
        "pages = pdfReader.numPages"
      ],
      "execution_count": null,
      "outputs": []
    },
    {
      "cell_type": "markdown",
      "metadata": {
        "id": "WFK93AhCq8v0"
      },
      "source": [
        "**Extracting the text**"
      ]
    },
    {
      "cell_type": "code",
      "metadata": {
        "id": "ncqmrWJsq0gX"
      },
      "source": [
        "text = \"\"\n",
        "for num in range(pages):\n",
        "  page = pdfReader.getPage(num)\n",
        "  text += page.extractText()"
      ],
      "execution_count": null,
      "outputs": []
    },
    {
      "cell_type": "markdown",
      "metadata": {
        "id": "ILyjcXrmgIpY"
      },
      "source": [
        "**Using Python text to speech module**"
      ]
    },
    {
      "cell_type": "code",
      "metadata": {
        "id": "H22aI3lZVgur"
      },
      "source": [
        "!pip install pyttsx3\n",
        "!apt install libespeak1"
      ],
      "execution_count": null,
      "outputs": []
    },
    {
      "cell_type": "code",
      "metadata": {
        "id": "29iHUCcpfRoa"
      },
      "source": [
        "import pyttsx3"
      ],
      "execution_count": null,
      "outputs": []
    },
    {
      "cell_type": "code",
      "metadata": {
        "id": "Xh0JhqDqfCDU"
      },
      "source": [
        "speaker = pyttsx3.init()\n",
        "speaker.say(text)\n",
        "speaker.runAndWait()"
      ],
      "execution_count": null,
      "outputs": []
    },
    {
      "cell_type": "markdown",
      "metadata": {
        "id": "njj3tJm1gQPi"
      },
      "source": [
        "**Using Google text to speech module**"
      ]
    },
    {
      "cell_type": "code",
      "metadata": {
        "id": "4eXjrEU6f3G_"
      },
      "source": [
        "!pip install  gtts\n",
        "!pip install Ipython"
      ],
      "execution_count": null,
      "outputs": []
    },
    {
      "cell_type": "code",
      "metadata": {
        "id": "vNT5Xkcge72p"
      },
      "source": [
        "from gtts import gTTS #Import Google Text to Speech\n",
        "from IPython.display import Audio #Import Audio method from IPython's Display Class"
      ],
      "execution_count": 22,
      "outputs": []
    },
    {
      "cell_type": "code",
      "metadata": {
        "id": "qDzU_crbmJkF"
      },
      "source": [
        "tts = gTTS(text)\n",
        "tts.save('1.wav') #save the string converted to speech as a .wav file\n",
        "sound_file = '1.wav'\n",
        "Audio(sound_file, autoplay=True) \n",
        "\n",
        "#Autoplay = True will play the sound automatically\n",
        "#If you would not like to play the sound automatically, simply pass Autoplay = False."
      ],
      "execution_count": null,
      "outputs": []
    },
    {
      "cell_type": "markdown",
      "metadata": {
        "id": "_kehG2mSrOK5"
      },
      "source": [
        "**gTTS for other languages**"
      ]
    },
    {
      "cell_type": "code",
      "metadata": {
        "id": "rjj-FazwlTwA"
      },
      "source": [
        "TamilText=\"வணக்கம்.அறம் செய விரும்பு, ஆறுவது சினம், இயல்வது கரவேல், ஈவது விலக்கேல், உடையது விளம்பேல். நன்றி!\"\n",
        "tts = gTTS(text=TamilText,lang='ta') #ta-Tamil Language\n",
        "tts.save('1.mp3')\n",
        "sound_file = '1.mp3'\n",
        "Audio(sound_file, autoplay=True) "
      ],
      "execution_count": null,
      "outputs": []
    }
  ]
}